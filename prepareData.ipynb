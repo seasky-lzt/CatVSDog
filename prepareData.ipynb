{
 "cells": [
  {
   "cell_type": "code",
   "execution_count": 13,
   "metadata": {},
   "outputs": [],
   "source": [
    "import os\n",
    "import shutil\n",
    "from IPython.display import display"
   ]
  },
  {
   "cell_type": "code",
   "execution_count": 38,
   "metadata": {},
   "outputs": [],
   "source": [
    "debugMode=True\n",
    "sourceFilePath='train'\n",
    "sourceTestFilePath='test'\n",
    "tempFilePath='trainTemp'\n",
    "tempTestFilePath='testTemp'\n",
    "catName='cat'\n",
    "dogName='dog'"
   ]
  },
  {
   "cell_type": "code",
   "execution_count": 30,
   "metadata": {},
   "outputs": [],
   "source": [
    "def isKindOf(typeName, filename):\n",
    "    return typeName in filename "
   ]
  },
  {
   "cell_type": "code",
   "execution_count": 32,
   "metadata": {},
   "outputs": [
    {
     "data": {
      "text/plain": [
       "'cat.5077.jpg'"
      ]
     },
     "metadata": {},
     "output_type": "display_data"
    },
    {
     "data": {
      "text/plain": [
       "'dog.8011.jpg'"
      ]
     },
     "metadata": {},
     "output_type": "display_data"
    },
    {
     "data": {
      "text/plain": [
       "'cat.2718.jpg'"
      ]
     },
     "metadata": {},
     "output_type": "display_data"
    },
    {
     "data": {
      "text/plain": [
       "'dog.7322.jpg'"
      ]
     },
     "metadata": {},
     "output_type": "display_data"
    },
    {
     "data": {
      "text/plain": [
       "'cat.10151.jpg'"
      ]
     },
     "metadata": {},
     "output_type": "display_data"
    },
    {
     "data": {
      "text/plain": [
       "'dog.1753.jpg'"
      ]
     },
     "metadata": {},
     "output_type": "display_data"
    },
    {
     "data": {
      "text/plain": [
       "'cat.3406.jpg'"
      ]
     },
     "metadata": {},
     "output_type": "display_data"
    },
    {
     "data": {
      "text/plain": [
       "'dog.5535.jpg'"
      ]
     },
     "metadata": {},
     "output_type": "display_data"
    },
    {
     "data": {
      "text/plain": [
       "'cat.4369.jpg'"
      ]
     },
     "metadata": {},
     "output_type": "display_data"
    },
    {
     "data": {
      "text/plain": [
       "'dog.3144.jpg'"
      ]
     },
     "metadata": {},
     "output_type": "display_data"
    },
    {
     "data": {
      "text/plain": [
       "'cat.7660.jpg'"
      ]
     },
     "metadata": {},
     "output_type": "display_data"
    },
    {
     "data": {
      "text/plain": [
       "'dog.775.jpg'"
      ]
     },
     "metadata": {},
     "output_type": "display_data"
    },
    {
     "data": {
      "text/plain": [
       "'cat.8553.jpg'"
      ]
     },
     "metadata": {},
     "output_type": "display_data"
    },
    {
     "data": {
      "text/plain": [
       "'dog.11102.jpg'"
      ]
     },
     "metadata": {},
     "output_type": "display_data"
    },
    {
     "data": {
      "text/plain": [
       "'cat.9895.jpg'"
      ]
     },
     "metadata": {},
     "output_type": "display_data"
    },
    {
     "data": {
      "text/plain": [
       "'dog.11664.jpg'"
      ]
     },
     "metadata": {},
     "output_type": "display_data"
    },
    {
     "data": {
      "text/plain": [
       "'cat.1211.jpg'"
      ]
     },
     "metadata": {},
     "output_type": "display_data"
    },
    {
     "data": {
      "text/plain": [
       "'dog.3622.jpg'"
      ]
     },
     "metadata": {},
     "output_type": "display_data"
    },
    {
     "data": {
      "text/plain": [
       "'cat.6218.jpg'"
      ]
     },
     "metadata": {},
     "output_type": "display_data"
    },
    {
     "data": {
      "text/plain": [
       "'dog.5253.jpg'"
      ]
     },
     "metadata": {},
     "output_type": "display_data"
    }
   ],
   "source": [
    "train_filenames = os.listdir(sourceFilePath)\n",
    "train_cat = filter(lambda x:isKindOf(catName, x), train_filenames)\n",
    "train_dog = filter(lambda x:isKindOf(dogName, x), train_filenames)\n",
    "\n",
    "if debugMode:\n",
    "    for i in range(10):\n",
    "        display(train_cat.__next__())\n",
    "        display(train_dog.__next__())\n"
   ]
  },
  {
   "cell_type": "code",
   "execution_count": 58,
   "metadata": {},
   "outputs": [],
   "source": [
    "def createDirByForce(dirname):\n",
    "    if os.path.exists(dirname):\n",
    "        shutil.rmtree(dirname)\n",
    "        \n",
    "    os.mkdir(dirname)\n",
    "\n",
    "createDirByForce(tempFilePath)\n",
    "\n",
    "os.mkdir(tempFilePath + ('/cat'))\n",
    "os.mkdir(tempFilePath + ('/dog'))\n",
    "\n",
    "createDirByForce(tempTestFilePath)\n",
    "os.symlink('../test/', tempTestFilePath + '/test')\n",
    "\n",
    "for filename in train_cat:\n",
    "    os.symlink('../../' + sourceFilePath + '/'+filename, tempFilePath + '/' + catName + '/' + filename)\n",
    "\n",
    "for filename in train_dog:\n",
    "    os.symlink('../../' + sourceFilePath + '/'+filename, tempFilePath + '/' + dogName + '/' + filename)\n",
    "\n"
   ]
  },
  {
   "cell_type": "markdown",
   "metadata": {},
   "source": [
    "# load dataset"
   ]
  },
  {
   "cell_type": "code",
   "execution_count": null,
   "metadata": {},
   "outputs": [],
   "source": [
    "import numpy as np\n",
    "import tqdm\n",
    "import cv2\n",
    "\n",
    "numberData = 25000\n",
    "x = np.zeros((numberData, 224, 224, 3), dtype=np.uint8)\n",
    "y = np.zeros((numberData, 1), dtype=np.uint8)\n",
    "\n",
    "for index in tqdm(range(0, numberData, 2)):\n",
    "    x[index] = cv2.resize(cv2.imread())\n",
    "    \n",
    "# import numpy as np\n",
    "# from tqdm import tqdm\n",
    "# import cv2\n",
    "\n",
    "# np.random.seed(2017)\n",
    "\n",
    "# n = 25000\n",
    "# X = np.zeros((n, 224, 224, 3), dtype=np.uint8)\n",
    "# y = np.zeros((n, 1), dtype=np.uint8)\n",
    "\n",
    "# for i in tqdm(range(n/2)):\n",
    "#     X[i] = cv2.resize(cv2.imread('train/cat.%d.jpg' % i), (224, 224))\n",
    "#     X[i+n/2] = cv2.resize(cv2.imread('train/dog.%d.jpg' % i), (224, 224))\n",
    "\n",
    "# y[n/2:] = 1"
   ]
  }
 ],
 "metadata": {
  "kernelspec": {
   "display_name": "Python 3",
   "language": "python",
   "name": "python3"
  },
  "language_info": {
   "codemirror_mode": {
    "name": "ipython",
    "version": 3
   },
   "file_extension": ".py",
   "mimetype": "text/x-python",
   "name": "python",
   "nbconvert_exporter": "python",
   "pygments_lexer": "ipython3",
   "version": "3.6.4"
  }
 },
 "nbformat": 4,
 "nbformat_minor": 2
}
